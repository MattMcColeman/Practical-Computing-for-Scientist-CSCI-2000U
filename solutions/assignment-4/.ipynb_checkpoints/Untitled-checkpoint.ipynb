{
 "cells": [
  {
   "cell_type": "code",
   "execution_count": 10,
   "metadata": {
    "collapsed": false
   },
   "outputs": [
    {
     "ename": "TypeError",
     "evalue": "Struct() argument 1 must be a bytes object, not int",
     "output_type": "error",
     "traceback": [
      "\u001b[1;31m---------------------------------------------------------------------------\u001b[0m",
      "\u001b[1;31mTypeError\u001b[0m                                 Traceback (most recent call last)",
      "\u001b[1;32m<ipython-input-10-5545989ccc6f>\u001b[0m in \u001b[0;36m<module>\u001b[1;34m()\u001b[0m\n\u001b[0;32m     14\u001b[0m \u001b[1;31m# note that '//' is an integer divison which returns\u001b[0m\u001b[1;33m\u001b[0m\u001b[1;33m\u001b[0m\u001b[0m\n\u001b[0;32m     15\u001b[0m \u001b[1;31m# an integer rather than float; '/' doesn't work\u001b[0m\u001b[1;33m\u001b[0m\u001b[1;33m\u001b[0m\u001b[0m\n\u001b[1;32m---> 16\u001b[1;33m \u001b[0mdata_halo\u001b[0m \u001b[1;33m=\u001b[0m \u001b[0mstruct\u001b[0m\u001b[1;33m.\u001b[0m\u001b[0munpack\u001b[0m\u001b[1;33m(\u001b[0m\u001b[1;33m(\u001b[0m\u001b[1;33m(\u001b[0m\u001b[0mlen\u001b[0m\u001b[1;33m(\u001b[0m\u001b[0mdata\u001b[0m\u001b[1;33m)\u001b[0m \u001b[1;33m-\u001b[0m \u001b[1;36m12\u001b[0m\u001b[1;33m)\u001b[0m \u001b[1;33m//\u001b[0m \u001b[1;36m4\u001b[0m\u001b[1;33m)\u001b[0m\u001b[1;33m,\u001b[0m \u001b[0mdata\u001b[0m\u001b[1;33m[\u001b[0m\u001b[1;36m12\u001b[0m\u001b[1;33m:\u001b[0m\u001b[1;33m]\u001b[0m\u001b[1;33m)\u001b[0m\u001b[1;33m\u001b[0m\u001b[0m\n\u001b[0m\u001b[0;32m     17\u001b[0m \u001b[1;33m\u001b[0m\u001b[0m\n\u001b[0;32m     18\u001b[0m \u001b[1;31m# done with the file, closing to release the resources\u001b[0m\u001b[1;33m\u001b[0m\u001b[1;33m\u001b[0m\u001b[0m\n",
      "\u001b[1;31mTypeError\u001b[0m: Struct() argument 1 must be a bytes object, not int"
     ]
    }
   ],
   "source": [
    "import struct\n",
    "import numpy as np\n",
    "import matplotlib.pyplot as plt\n",
    "\n",
    "# opening the file as binary\n",
    "file = open('halo.dat', 'rb')\n",
    "data = file.read()\n",
    "\n",
    "# unpacking the first two parameters\n",
    "N_halo = struct.unpack(\"i\", data[:4])\n",
    "T_halo = struct.unpack(\"d\", data[4:12])\n",
    "\n",
    "# this line is the modified version of the Stack Overflow's answer;\n",
    "# note that '//' is an integer divison which returns\n",
    "# an integer rather than float; '/' doesn't work\n",
    "data_halo = struct.unpack(\"f\" * ((len(data) - 12) // 4), data[12:])\n",
    "\n",
    "# done with the file, closing to release the resources\n",
    "file.close()\n",
    "\n",
    "# converting to a numpy array\n",
    "data_halo = np.array(data_halo)\n",
    "\n",
    "# reshaping to two-dimentional array:\n",
    "# since N_halo is already a tuple with a single element,\n",
    "# we just add 7 to it by plus operator but first we need\n",
    "# to convert 7 to a tuple by (7,)\n",
    "data_halo = np.reshape(data_halo, N_halo + (7,))\n",
    "\n",
    "# we use the first element of N_halo tuple to initialize\n",
    "# our v_halo vector to zero\n",
    "v_halo = np.zeros(N_halo[0])\n",
    "\n",
    "# x, y and z velocities are on 4, 5 and 6 indices, respectively\n",
    "for i in range(len(data_halo)):\n",
    "    v_halo[i] = (data_halo[i, 4]**2) + (data_halo[i, 5]**2) + (data_halo[i, 6]**2)\n",
    "v_halo = np.sqrt(v_halo)\n",
    "\n",
    "# finally initializing the histogram and showing the result\n",
    "plt.hist(v_halo, 50)\n",
    "plt.xlabel('Speed')\n",
    "plt.ylabel('Frequency')\n",
    "plt.title('Velocity histogram (halo) Student ID')\n",
    "plt.show()"
   ]
  },
  {
   "cell_type": "code",
   "execution_count": null,
   "metadata": {
    "collapsed": true
   },
   "outputs": [],
   "source": []
  }
 ],
 "metadata": {
  "kernelspec": {
   "display_name": "Python 3",
   "language": "python",
   "name": "python3"
  },
  "language_info": {
   "codemirror_mode": {
    "name": "ipython",
    "version": 3
   },
   "file_extension": ".py",
   "mimetype": "text/x-python",
   "name": "python",
   "nbconvert_exporter": "python",
   "pygments_lexer": "ipython3",
   "version": "3.4.3"
  }
 },
 "nbformat": 4,
 "nbformat_minor": 0
}
