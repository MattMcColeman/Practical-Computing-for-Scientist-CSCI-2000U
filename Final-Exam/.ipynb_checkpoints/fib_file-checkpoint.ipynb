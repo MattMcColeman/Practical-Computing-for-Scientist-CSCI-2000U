{
 "cells": [
  {
   "cell_type": "code",
   "execution_count": 7,
   "metadata": {
    "collapsed": false
   },
   "outputs": [
    {
     "name": "stdout",
     "output_type": "stream",
     "text": [
      "n     F_n\n",
      "0     0\n",
      "1     1\n",
      "2     1\n",
      "3     2\n",
      "4     3\n",
      "5     5\n"
     ]
    }
   ],
   "source": [
    "def fib_file(x, s):\n",
    "    print(\"n\",\"   \",\"F_n\")\n",
    "    print(\"0\",\"   \",\"0\")\n",
    "    print(\"1\",\"   \",\"1\")\n",
    "    print(\"2\",\"   \",\"1\")\n",
    "    A=1\n",
    "    B=1\n",
    "    for i in range(x-2):\n",
    "        C=A+B\n",
    "        A=B\n",
    "        B=C\n",
    "        print(i+3,\"   \",C)\n",
    "        \n",
    "fib_file(6,'fib')\n",
    "    "
   ]
  },
  {
   "cell_type": "code",
   "execution_count": null,
   "metadata": {
    "collapsed": true
   },
   "outputs": [],
   "source": []
  }
 ],
 "metadata": {
  "kernelspec": {
   "display_name": "Python 3",
   "language": "python",
   "name": "python3"
  },
  "language_info": {
   "codemirror_mode": {
    "name": "ipython",
    "version": 3
   },
   "file_extension": ".py",
   "mimetype": "text/x-python",
   "name": "python",
   "nbconvert_exporter": "python",
   "pygments_lexer": "ipython3",
   "version": "3.4.3"
  }
 },
 "nbformat": 4,
 "nbformat_minor": 0
}
