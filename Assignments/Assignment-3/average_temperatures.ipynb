{
 "cells": [
  {
   "cell_type": "code",
   "execution_count": null,
   "metadata": {
    "collapsed": true
   },
   "outputs": [],
   "source": []
  },
  {
   "cell_type": "code",
   "execution_count": null,
   "metadata": {
    "collapsed": true
   },
   "outputs": [],
   "source": []
  },
  {
   "cell_type": "code",
   "execution_count": null,
   "metadata": {
    "collapsed": true
   },
   "outputs": [],
   "source": []
  },
  {
   "cell_type": "code",
   "execution_count": 2,
   "metadata": {
    "collapsed": false,
    "scrolled": true
   },
   "outputs": [],
   "source": [
    "import pylab as pl\n",
    "x = [0,1,2,3,4,5,6,7,8,9,10,11]\n",
    "y = []\n",
    "t = []\n",
    "v = []\n",
    "xTicks = ['JUN', 'FEB', 'MAR', 'APR', 'MAY', 'JUN', 'JUL', 'AUG', 'SEP', 'OCT', 'NOV', 'DEC']\n",
    "\n",
    "readFile = open('montreal_temperature_2012.dat', 'r')\n",
    "sepFile = readFile.read().split('\\n')\n",
    "readFile.close()\n",
    "for z in sepFile:\n",
    "    y.append(float(z))\n",
    "\n",
    "readFileT = open('toronto_temperature_2012.dat', 'r')\n",
    "sepFileT = readFileT.read().split('\\n')\n",
    "readFileT.close()\n",
    "for w in sepFileT:\n",
    "    t.append(float(w))\n",
    "\n",
    "readFileV = open('vancouver_temperature_2012.dat', 'r')\n",
    "sepFileV = readFileV.read().split('\\n')\n",
    "readFileV.close()\n",
    "for r in sepFileV:\n",
    "    v.append(float(r))\n",
    "    \n",
    "pl.xticks(x, xTicks)\n",
    "pl.xticks(range(12), xTicks, rotation=45) #writes strings with 45 degree angle\n",
    "pl.plot(x,y,'r',label='montreal')\n",
    "pl.plot(t,'g', label='toronto')\n",
    "pl.plot(v,'b', label='vancouver')\n",
    "pl.legend(loc='upper right')\n",
    "pl.show()"
   ]
  },
  {
   "cell_type": "code",
   "execution_count": null,
   "metadata": {
    "collapsed": true
   },
   "outputs": [],
   "source": []
  },
  {
   "cell_type": "code",
   "execution_count": null,
   "metadata": {
    "collapsed": true
   },
   "outputs": [],
   "source": []
  },
  {
   "cell_type": "code",
   "execution_count": null,
   "metadata": {
    "collapsed": true
   },
   "outputs": [],
   "source": []
  },
  {
   "cell_type": "code",
   "execution_count": null,
   "metadata": {
    "collapsed": true
   },
   "outputs": [],
   "source": []
  },
  {
   "cell_type": "code",
   "execution_count": null,
   "metadata": {
    "collapsed": true
   },
   "outputs": [],
   "source": []
  }
 ],
 "metadata": {
  "kernelspec": {
   "display_name": "Python 3",
   "language": "python",
   "name": "python3"
  },
  "language_info": {
   "codemirror_mode": {
    "name": "ipython",
    "version": 3
   },
   "file_extension": ".py",
   "mimetype": "text/x-python",
   "name": "python",
   "nbconvert_exporter": "python",
   "pygments_lexer": "ipython3",
   "version": "3.4.3"
  }
 },
 "nbformat": 4,
 "nbformat_minor": 0
}
