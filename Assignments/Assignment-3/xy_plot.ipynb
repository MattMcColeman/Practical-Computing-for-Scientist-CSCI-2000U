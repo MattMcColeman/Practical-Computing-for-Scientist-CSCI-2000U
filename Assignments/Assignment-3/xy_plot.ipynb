{
 "cells": [
  {
   "cell_type": "code",
   "execution_count": 10,
   "metadata": {
    "collapsed": false
   },
   "outputs": [
    {
     "name": "stdout",
     "output_type": "stream",
     "text": [
      "frank\n",
      "8\n",
      "16\n",
      "22\n",
      "24\n",
      "69\n",
      "70\n",
      "76\n",
      "78\n",
      "82\n",
      "90\n",
      "95\n",
      "107\n",
      "117\n",
      "118\n",
      "120\n",
      "130\n",
      "138\n",
      "156\n",
      "169\n",
      "170\n",
      "175\n",
      "198\n",
      "200\n",
      "224\n",
      "249\n",
      "306\n",
      "334\n",
      "344\n",
      "368\n",
      "378\n",
      "380\n",
      "425\n",
      "431\n",
      "432\n",
      "440\n",
      "447\n",
      "448\n",
      "485\n",
      "511\n",
      "512\n",
      "518\n",
      "524\n",
      "564\n",
      "568\n",
      "578\n",
      "582\n",
      "602\n",
      "610\n",
      "627\n",
      "630\n",
      "636\n",
      "640\n",
      "650\n",
      "654\n",
      "655\n",
      "677\n",
      "688\n",
      "694\n",
      "695\n",
      "715\n",
      "720\n",
      "725\n",
      "733\n",
      "739\n",
      "760\n",
      "761\n",
      "778\n",
      "789\n",
      "805\n",
      "818\n",
      "822\n",
      "823\n",
      "845\n",
      "852\n",
      "856\n",
      "860\n",
      "866\n",
      "868\n",
      "870\n",
      "879\n",
      "890\n",
      "898\n",
      "908\n",
      "912\n",
      "932\n",
      "935\n",
      "941\n",
      "952\n",
      "960\n",
      "963\n",
      "968\n",
      "969\n",
      "986\n"
     ]
    },
    {
     "data": {
      "image/png": "[encoded data removed]",
      "text/plain": [
       "<matplotlib.figure.Figure at 0x7f47ec852e48>"
      ]
     },
     "metadata": {},
     "output_type": "display_data"
    }
   ],
   "source": [
    "import matplotlib.pyplot as plt\n",
    "import numpy as np\n",
    "\n",
    "x=[]\n",
    "y=[]\n",
    "x1=[]\n",
    "y1=[]\n",
    "x2=[]\n",
    "y2=[]\n",
    "\n",
    "\n",
    "an = np.linspace(0, 2*np.pi, 100)\n",
    "\n",
    "readFile = open('xy_points.dat', 'r')\n",
    "x = readFile.readline().split(' ')\n",
    "y = readFile.readline().split(' ')\n",
    "readFile.close()\n",
    "\n",
    "print(\"frank\")\n",
    "\n",
    "count=0\n",
    "while(count<len(x)):\n",
    "    if(((float)(x[count])<-2.0) & (-5<=(float)(y[count])<=0)):\n",
    "        print(count)\n",
    "        x1.append((float)(x[count]))\n",
    "        y1.append((float)(y[count]))\n",
    "    if(((((float)(x[count]))**2)+(((float)(y[count]))**2)**0.5)<=5):\n",
    "        x2.append((float)(x[count]))\n",
    "        y2.append((float)(y[count]))\n",
    "    count += 1\n",
    "\n",
    "plt.ylim(-10,10)\n",
    "plt.xlim(-10,10)\n",
    "#print(x)\n",
    "#print(y)\n",
    "plt.scatter(x,y,color='red')\n",
    "plt.scatter(x1,y1,color='blue')\n",
    "plt.scatter(x2,y2,color='green')\n",
    "plt.title(\"Highlighted points (100525235)\")\n",
    "plt.show()"
   ]
  },
  {
   "cell_type": "code",
   "execution_count": null,
   "metadata": {
    "collapsed": true
   },
   "outputs": [],
   "source": []
  },
  {
   "cell_type": "code",
   "execution_count": null,
   "metadata": {
    "collapsed": true
   },
   "outputs": [],
   "source": []
  },
  {
   "cell_type": "code",
   "execution_count": null,
   "metadata": {
    "collapsed": true
   },
   "outputs": [],
   "source": []
  }
 ],
 "metadata": {
  "kernelspec": {
   "display_name": "Python 3",
   "language": "python",
   "name": "python3"
  },
  "language_info": {
   "codemirror_mode": {
    "name": "ipython",
    "version": 3
   },
   "file_extension": ".py",
   "mimetype": "text/x-python",
   "name": "python",
   "nbconvert_exporter": "python",
   "pygments_lexer": "ipython3",
   "version": "3.4.3"
  }
 },
 "nbformat": 4,
 "nbformat_minor": 0
}
