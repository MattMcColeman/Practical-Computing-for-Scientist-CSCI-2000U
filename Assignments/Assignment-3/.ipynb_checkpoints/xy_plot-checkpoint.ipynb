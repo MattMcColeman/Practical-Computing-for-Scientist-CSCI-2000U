{
 "cells": [
  {
   "cell_type": "code",
   "execution_count": 8,
   "metadata": {
    "collapsed": false
   },
   "outputs": [
    {
     "ename": "TypeError",
     "evalue": "unorderable types: numpy.ndarray() < int()",
     "output_type": "error",
     "traceback": [
      "\u001b[1;31m---------------------------------------------------------------------------\u001b[0m",
      "\u001b[1;31mTypeError\u001b[0m                                 Traceback (most recent call last)",
      "\u001b[1;32m<ipython-input-8-7e69e363458a>\u001b[0m in \u001b[0;36m<module>\u001b[1;34m()\u001b[0m\n\u001b[0;32m     23\u001b[0m \u001b[0mB\u001b[0m \u001b[1;33m=\u001b[0m \u001b[0mnp\u001b[0m\u001b[1;33m.\u001b[0m\u001b[0marray\u001b[0m\u001b[1;33m(\u001b[0m\u001b[0my\u001b[0m\u001b[1;33m)\u001b[0m\u001b[1;33m\u001b[0m\u001b[0m\n\u001b[0;32m     24\u001b[0m \u001b[1;33m\u001b[0m\u001b[0m\n\u001b[1;32m---> 25\u001b[1;33m \u001b[0mA_sub0\u001b[0m\u001b[1;33m=\u001b[0m\u001b[0mA\u001b[0m\u001b[1;33m[\u001b[0m\u001b[1;33m(\u001b[0m\u001b[0mA\u001b[0m\u001b[1;33m<\u001b[0m\u001b[1;33m-\u001b[0m\u001b[1;36m2\u001b[0m\u001b[1;33m)\u001b[0m\u001b[1;33m]\u001b[0m\u001b[1;33m\u001b[0m\u001b[0m\n\u001b[0m\u001b[0;32m     26\u001b[0m \u001b[0mB_sub0\u001b[0m\u001b[1;33m=\u001b[0m\u001b[0mB\u001b[0m\u001b[1;33m[\u001b[0m\u001b[1;33m(\u001b[0m\u001b[0mA\u001b[0m\u001b[1;33m<\u001b[0m\u001b[1;33m-\u001b[0m\u001b[1;36m2\u001b[0m\u001b[1;33m)\u001b[0m\u001b[1;33m]\u001b[0m\u001b[1;33m\u001b[0m\u001b[0m\n\u001b[0;32m     27\u001b[0m \u001b[0mA_sub1\u001b[0m\u001b[1;33m=\u001b[0m\u001b[0mA_sub0\u001b[0m\u001b[1;33m[\u001b[0m\u001b[1;33m(\u001b[0m\u001b[0mB_sub0\u001b[0m\u001b[1;33m>\u001b[0m\u001b[1;33m-\u001b[0m\u001b[1;36m5\u001b[0m\u001b[1;33m)\u001b[0m\u001b[1;33m&\u001b[0m\u001b[1;33m(\u001b[0m\u001b[0mB_sub0\u001b[0m\u001b[1;33m<\u001b[0m\u001b[1;36m0\u001b[0m\u001b[1;33m)\u001b[0m\u001b[1;33m]\u001b[0m\u001b[1;33m\u001b[0m\u001b[0m\n",
      "\u001b[1;31mTypeError\u001b[0m: unorderable types: numpy.ndarray() < int()"
     ]
    }
   ],
   "source": [
    "import matplotlib.pyplot as plt\n",
    "import numpy as np\n",
    "%matplotlib inline\n",
    "\n",
    "x=[]\n",
    "y=[]\n",
    "x1=[]\n",
    "y1=[]\n",
    "x2=[]\n",
    "y2=[]\n",
    "\n",
    "\n",
    "\n",
    "an = np.linspace(0, 2*np.pi, 100)\n",
    "\n",
    "readFile = open('xy_points.dat', 'r')\n",
    "x = readFile.readline().split(' ')\n",
    "y = readFile.readline().split(' ')\n",
    "readFile.close()\n",
    "\n",
    "\n",
    "A = np.array(x)\n",
    "B = np.array(y)\n",
    "\n",
    "A1=A[(A<-2)]\n",
    "B1=B[(A<-2)]\n",
    "A2=A1[(B1>-5)&(B1<0)]\n",
    "B2=B1[(B1>-5)&(B1<0)]\n",
    "print(\"frank\")\n",
    "\n",
    "count=0\n",
    "while(count<len(x)):\n",
    "    if(((float)(x[count])<-2.0) & (-5<=(float)(y[count])<=0)):\n",
    "        print(count)\n",
    "        x1.append((float)(x[count]))\n",
    "        y1.append((float)(y[count]))\n",
    "    if(((((float)(x[count]))**2)+(((float)(y[count]))**2)**0.5)<=5):\n",
    "        x2.append((float)(x[count]))\n",
    "        y2.append((float)(y[count]))\n",
    "    count += 1\n",
    "\n",
    "plt.ylim(-10,10)\n",
    "plt.xlim(-10,10)\n",
    "#print(x)\n",
    "#print(y)\n",
    "plt.scatter(x,y,color='red')\n",
    "#plt.scatter(x1,y1,color='blue')\n",
    "plt.scatter(A2,B2,color='blue')\n",
    "plt.scatter(x2,y2,color='green')\n",
    "plt.title(\"Highlighted points (100525235)\")\n",
    "plt.show()"
   ]
  },
  {
   "cell_type": "code",
   "execution_count": null,
   "metadata": {
    "collapsed": true
   },
   "outputs": [],
   "source": []
  },
  {
   "cell_type": "code",
   "execution_count": null,
   "metadata": {
    "collapsed": true
   },
   "outputs": [],
   "source": []
  },
  {
   "cell_type": "code",
   "execution_count": null,
   "metadata": {
    "collapsed": true
   },
   "outputs": [],
   "source": []
  }
 ],
 "metadata": {
  "kernelspec": {
   "display_name": "Python 3",
   "language": "python",
   "name": "python3"
  },
  "language_info": {
   "codemirror_mode": {
    "name": "ipython",
    "version": 3
   },
   "file_extension": ".py",
   "mimetype": "text/x-python",
   "name": "python",
   "nbconvert_exporter": "python",
   "pygments_lexer": "ipython3",
   "version": "3.4.3"
  }
 },
 "nbformat": 4,
 "nbformat_minor": 0
}
