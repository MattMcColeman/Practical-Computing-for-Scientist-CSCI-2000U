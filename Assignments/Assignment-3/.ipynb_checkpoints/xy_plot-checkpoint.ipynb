{
 "cells": [
  {
   "cell_type": "code",
   "execution_count": null,
   "metadata": {
    "collapsed": false
   },
   "outputs": [],
   "source": [
    "import matplotlib.pyplot as plt\n",
    "import numpy as np\n",
    "\n",
    "x=[]\n",
    "y=[]\n",
    "x1=[]\n",
    "y1=[]\n",
    "x2=[]\n",
    "y2=[]\n",
    "\n",
    "\n",
    "an = np.linspace(0, 2*np.pi, 100)\n",
    "\n",
    "readFile = open('xy_points.dat', 'r')\n",
    "x = readFile.readline().split(' ')\n",
    "y = readFile.readline().split(' ')\n",
    "readFile.close()\n",
    "\n",
    "print(\"frank\")\n",
    "\n",
    "count=0\n",
    "while(count<len(x)):\n",
    "    if(((float)(x[count])<-2.0) & (-5<=(float)(y[count])<=0)):\n",
    "        print(count)\n",
    "        x1.append((float)(x[count]))\n",
    "        y1.append((float)(y[count]))\n",
    "    if(((((float)(x[count]))**2)+(((float)(y[count]))**2)**0.5)<=5):\n",
    "        x2.append((float)(x[count]))\n",
    "        y2.append((float)(y[count]))\n",
    "    count += 1\n",
    "\n",
    "plt.ylim(-10,10)\n",
    "plt.xlim(-10,10)\n",
    "#print(x)\n",
    "#print(y)\n",
    "plt.scatter(x,y,color='red')\n",
    "plt.scatter(x1,y1,color='blue')\n",
    "plt.scatter(x2,y2,color='green')\n",
    "plt.title(\"Highlighted points (100525235)\")\n",
    "plt.show()"
   ]
  },
  {
   "cell_type": "code",
   "execution_count": null,
   "metadata": {
    "collapsed": true
   },
   "outputs": [],
   "source": []
  },
  {
   "cell_type": "code",
   "execution_count": null,
   "metadata": {
    "collapsed": true
   },
   "outputs": [],
   "source": []
  },
  {
   "cell_type": "code",
   "execution_count": null,
   "metadata": {
    "collapsed": true
   },
   "outputs": [],
   "source": []
  }
 ],
 "metadata": {
  "kernelspec": {
   "display_name": "Python 3",
   "language": "python",
   "name": "python3"
  },
  "language_info": {
   "codemirror_mode": {
    "name": "ipython",
    "version": 3
   },
   "file_extension": ".py",
   "mimetype": "text/x-python",
   "name": "python",
   "nbconvert_exporter": "python",
   "pygments_lexer": "ipython3",
   "version": "3.4.3"
  }
 },
 "nbformat": 4,
 "nbformat_minor": 0
}
