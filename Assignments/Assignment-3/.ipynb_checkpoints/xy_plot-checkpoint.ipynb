{
 "cells": [
  {
   "cell_type": "code",
   "execution_count": 15,
   "metadata": {
    "collapsed": false
   },
   "outputs": [],
   "source": [
    "import matplotlib.pyplot as plt\n",
    "import numpy as np\n",
    "\n",
    "an = np.linspace(0, 2*np.pi, 100)\n",
    "\n",
    "x = np.array([])\n",
    "y = np.array([])\n",
    "\n",
    "\n",
    "readFile = open('xy_points.dat', 'r')\n",
    "x = readFile.readline().split(' ')\n",
    "y = readFile.readline().split(' ')\n",
    "readFile.close()\n",
    "\n",
    "plt.plot(5*np.cos(an), 5*np.sin(an), color='green')\n",
    "plt.axis('equal')\n",
    "plt.title('equal, looks like circle', fontsize=10)\n",
    "\n",
    "#print(x)\n",
    "#print(y)\n",
    "plt.scatter(x,y,color='red')\n",
    "plt.title(\"Highlighted points (100525235)\")\n",
    "plt.show()"
   ]
  },
  {
   "cell_type": "code",
   "execution_count": null,
   "metadata": {
    "collapsed": true
   },
   "outputs": [],
   "source": []
  },
  {
   "cell_type": "code",
   "execution_count": null,
   "metadata": {
    "collapsed": true
   },
   "outputs": [],
   "source": []
  },
  {
   "cell_type": "code",
   "execution_count": null,
   "metadata": {
    "collapsed": true
   },
   "outputs": [],
   "source": []
  },
  {
   "cell_type": "code",
   "execution_count": null,
   "metadata": {
    "collapsed": true
   },
   "outputs": [],
   "source": []
  }
 ],
 "metadata": {
  "kernelspec": {
   "display_name": "Python 3",
   "language": "python",
   "name": "python3"
  },
  "language_info": {
   "codemirror_mode": {
    "name": "ipython",
    "version": 3
   },
   "file_extension": ".py",
   "mimetype": "text/x-python",
   "name": "python",
   "nbconvert_exporter": "python",
   "pygments_lexer": "ipython3",
   "version": "3.4.3"
  }
 },
 "nbformat": 4,
 "nbformat_minor": 0
}
