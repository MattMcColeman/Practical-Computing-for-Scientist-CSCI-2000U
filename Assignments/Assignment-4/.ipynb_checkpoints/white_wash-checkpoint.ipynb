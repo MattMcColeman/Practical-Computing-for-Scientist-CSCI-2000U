{
 "cells": [
  {
   "cell_type": "code",
   "execution_count": 59,
   "metadata": {
    "collapsed": false
   },
   "outputs": [
    {
     "name": "stdout",
     "output_type": "stream",
     "text": [
      "0.5\n",
      "0.5\n",
      "0.5\n",
      "0.75\n",
      "1.0\n",
      "1.0\n",
      "1.0\n",
      "1.0\n",
      "1.0\n",
      "[[0.5, 0.5, 0.5], [0.75, 1.0, 1.0], [1.0, 1.0, 1.0]]\n"
     ]
    }
   ],
   "source": [
    "import numpy as np\n",
    "import matplotlib.pyplot as plt\n",
    "\n",
    "Matrix = np.array([(0.0,  0.0, 0.0),\n",
    "          (0.5,  1.0, 1.0),\n",
    "          (1.0,  1.0, 1.0)])\n",
    "\n",
    "\n",
    "def WhiteWash(myList):\n",
    "    array=[[0 for x in range(3)] for x in range(len(myList))]\n",
    "    for x in range(len(myList)):\n",
    "        for y in range(3):\n",
    "            array[x][y]=(myList[x][y] + 1)/2\n",
    "    print(array)\n",
    "        \n",
    "WhiteWash(Matrix)\n",
    "    "
   ]
  },
  {
   "cell_type": "code",
   "execution_count": null,
   "metadata": {
    "collapsed": true
   },
   "outputs": [],
   "source": []
  },
  {
   "cell_type": "code",
   "execution_count": null,
   "metadata": {
    "collapsed": true
   },
   "outputs": [],
   "source": []
  }
 ],
 "metadata": {
  "kernelspec": {
   "display_name": "Python 3",
   "language": "python",
   "name": "python3"
  },
  "language_info": {
   "codemirror_mode": {
    "name": "ipython",
    "version": 3
   },
   "file_extension": ".py",
   "mimetype": "text/x-python",
   "name": "python",
   "nbconvert_exporter": "python",
   "pygments_lexer": "ipython3",
   "version": "3.4.3"
  }
 },
 "nbformat": 4,
 "nbformat_minor": 0
}
